{
 "cells": [
  {
   "cell_type": "code",
   "execution_count": 1,
   "metadata": {},
   "outputs": [],
   "source": [
    "import numpy as np \n",
    "import warnings\n",
    "warnings.filterwarnings(\"ignore\", category = np.VisibleDeprecationWarning) \n",
    "allDB = {}"
   ]
  },
  {
   "cell_type": "code",
   "execution_count": 2,
   "metadata": {},
   "outputs": [
    {
     "data": {
      "text/plain": [
       "dtype([('name', 'S5'), ('age', '<i8')])"
      ]
     },
     "execution_count": 2,
     "metadata": {},
     "output_type": "execute_result"
    }
   ],
   "source": [
    "readDB = np.genfromtxt(\"myfile.csv\", dtype = None, delimiter = '|', names=True, autostrip=True)\n",
    "allDB[\"R\"] = readDB\n",
    "allDB[\"R\"].dtype"
   ]
  },
  {
   "cell_type": "code",
   "execution_count": 5,
   "metadata": {},
   "outputs": [
    {
     "name": "stdout",
     "output_type": "stream",
     "text": [
      "32.25\n",
      "The Mean for the column age is 32.25\n"
     ]
    }
   ],
   "source": [
    "column = \"age\"\n",
    "col = allDB[\"R\"][column] \n",
    "mean = np.mean(col)\n",
    "print(mean)\n",
    "print(\"The Mean for the column \" + column + \" is \" + str(mean))"
   ]
  },
  {
   "cell_type": "code",
   "execution_count": null,
   "metadata": {},
   "outputs": [],
   "source": []
  }
 ],
 "metadata": {
  "kernelspec": {
   "display_name": "Python [conda env:anaconda]",
   "language": "python",
   "name": "conda-env-anaconda-py"
  },
  "language_info": {
   "codemirror_mode": {
    "name": "ipython",
    "version": 3
   },
   "file_extension": ".py",
   "mimetype": "text/x-python",
   "name": "python",
   "nbconvert_exporter": "python",
   "pygments_lexer": "ipython3",
   "version": "3.5.6"
  }
 },
 "nbformat": 4,
 "nbformat_minor": 2
}
