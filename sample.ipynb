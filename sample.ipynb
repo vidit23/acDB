{
 "cells": [
  {
   "cell_type": "code",
   "execution_count": 22,
   "metadata": {},
   "outputs": [],
   "source": [
    "import numpy as np \n",
    "import warnings\n",
    "from tabulate import tabulate\n",
    "warnings.filterwarnings(\"ignore\", category = np.VisibleDeprecationWarning) \n",
    "allDB = {}"
   ]
  },
  {
   "cell_type": "code",
   "execution_count": 21,
   "metadata": {},
   "outputs": [
    {
     "data": {
      "text/plain": [
       "('id', 'name', 'age')"
      ]
     },
     "execution_count": 21,
     "metadata": {},
     "output_type": "execute_result"
    }
   ],
   "source": [
    "readDB = np.genfromtxt(\"myfile.csv\", dtype = None, delimiter = '|', names=True, autostrip=True)\n",
    "allDB[\"R\"] = readDB\n",
    "readDB.dtype.names"
   ]
  },
  {
   "cell_type": "code",
   "execution_count": 25,
   "metadata": {},
   "outputs": [
    {
     "name": "stdout",
     "output_type": "stream",
     "text": [
      "+------+--------+-------+\n",
      "|   id | name   |   age |\n",
      "+======+========+=======+\n",
      "|    1 | vidit  |    24 |\n",
      "+------+--------+-------+\n",
      "|    2 | daksh  |    23 |\n",
      "+------+--------+-------+\n",
      "|    3 | jude   |    27 |\n",
      "+------+--------+-------+\n",
      "|    4 | xyz    |    55 |\n",
      "+------+--------+-------+\n",
      "|    5 | xyz    |    30 |\n",
      "+------+--------+-------+\n"
     ]
    }
   ],
   "source": [
    "headers = readDB.dtype.names\n",
    "print(tabulate(readDB, headers, tablefmt=\"grid\"))"
   ]
  },
  {
   "cell_type": "code",
   "execution_count": 14,
   "metadata": {},
   "outputs": [
    {
     "name": "stdout",
     "output_type": "stream",
     "text": [
      "31.8\n",
      "The Mean for the column age is 31.8\n"
     ]
    }
   ],
   "source": [
    "column = \"age\"\n",
    "col = allDB[\"R\"][column] \n",
    "mean = np.mean(col)\n",
    "print(mean)\n",
    "print(\"The Mean for the column \" + column + \" is \" + str(mean))"
   ]
  },
  {
   "cell_type": "code",
   "execution_count": 15,
   "metadata": {},
   "outputs": [
    {
     "name": "stdout",
     "output_type": "stream",
     "text": [
      "55\n",
      "The Maximum value of the column age is 55\n"
     ]
    }
   ],
   "source": [
    "column = \"age\"\n",
    "col = allDB[\"R\"][column] \n",
    "maxRow = np.max(col)\n",
    "print(maxRow)\n",
    "print(\"The Maximum value of the column \" + column + \" is \" + str(maxRow))"
   ]
  },
  {
   "cell_type": "code",
   "execution_count": 16,
   "metadata": {},
   "outputs": [
    {
     "name": "stdout",
     "output_type": "stream",
     "text": [
      "159\n",
      "The sum of the column age is 159\n"
     ]
    }
   ],
   "source": [
    "column = \"age\"\n",
    "col = allDB[\"R\"][column] \n",
    "rowSum = np.sum(col)\n",
    "print(rowSum)\n",
    "print(\"The sum of the column \" + column + \" is \" + str(rowSum))"
   ]
  },
  {
   "cell_type": "code",
   "execution_count": 17,
   "metadata": {},
   "outputs": [
    {
     "data": {
      "text/plain": [
       "array([(2, b'daksh', 23), (3, b'jude', 27), (1, b'vidit', 24),\n",
       "       (5, b'xyz', 30), (4, b'xyz', 55)],\n",
       "      dtype=[('id', '<i8'), ('name', 'S5'), ('age', '<i8')])"
      ]
     },
     "execution_count": 17,
     "metadata": {},
     "output_type": "execute_result"
    }
   ],
   "source": [
    "column=[\"name\",\"age\"]\n",
    "sortedCollection = np.sort(allDB[\"R\"], order=column)\n",
    "sortedCollection"
   ]
  },
  {
   "cell_type": "code",
   "execution_count": null,
   "metadata": {},
   "outputs": [],
   "source": []
  }
 ],
 "metadata": {
  "kernelspec": {
   "display_name": "Python [conda env:anaconda]",
   "language": "python",
   "name": "conda-env-anaconda-py"
  },
  "language_info": {
   "codemirror_mode": {
    "name": "ipython",
    "version": 3
   },
   "file_extension": ".py",
   "mimetype": "text/x-python",
   "name": "python",
   "nbconvert_exporter": "python",
   "pygments_lexer": "ipython3",
   "version": "3.5.6"
  }
 },
 "nbformat": 4,
 "nbformat_minor": 2
}
